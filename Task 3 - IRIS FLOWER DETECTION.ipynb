{
 "cells": [
  {
   "cell_type": "markdown",
   "id": "8899be82",
   "metadata": {},
   "source": [
    "# CODSOFT DATA SCIENCE INTERNSHIP "
   ]
  },
  {
   "cell_type": "markdown",
   "id": "a6edc58d",
   "metadata": {},
   "source": [
    "\n",
    "TASK-3 : IRIS FLOWER DETECTIONIRIS FLOWER DETECTION\n",
    "\n",
    "    Owner: MAMTA NASREEN\n",
    "\n",
    "    Batch: JUNE\n",
    "\n",
    "    Domain: Data Science\n",
    "\n",
    "    Aim: To build a model for iris flower classification.\n",
    "\n"
   ]
  },
  {
   "cell_type": "markdown",
   "id": "b37a2392",
   "metadata": {},
   "source": [
    "Table of Contents\n",
    "1. Introduction\n",
    "2. Load and Display Dataset\n",
    "3. Exploratory Data Analysis (EDA)\n",
    "    - Dataset Overview\n",
    "    - Data Visualization\n",
    "4. Data Preprocessing\n",
    "    - Handling Missing Values\n",
    "    - Feature Scaling\n",
    "5. Model Training\n",
    "    - Train-Test Split\n",
    "    - Model Selection\n",
    "6. Model Evaluation\n",
    "    - Classification Report\n",
    "    - Confusion Matrix\n",
    "7. Conclusion"
   ]
  },
  {
   "cell_type": "markdown",
   "id": "e611f366",
   "metadata": {},
   "source": [
    "# Introduction\n",
    "This notebook aims to detect Iris flower species using machine learning algorithms. We will go through the steps of data exploration, preprocessing, model training, and evaluation.\n"
   ]
  },
  {
   "cell_type": "code",
   "execution_count": null,
   "id": "e5f59f9c",
   "metadata": {},
   "outputs": [],
   "source": [
    "# Load and Display Dataset\n",
    "import pandas as pd\n",
    "\n",
    "def load_and_display_dataset(file_path):\n",
    "    df = pd.read_csv(file_path)\n",
    "    print(f\"Dataset has {df.shape[0]} rows and {df.shape[1]} columns\")\n",
    "    display(df.head())\n",
    "    return df\n",
    "\n",
    "file_path = 'path_to_iris_dataset.csv'  # Update the path if necessary\n",
    "iris_df = load_and_display_dataset(file_path)\n"
   ]
  },
  {
   "cell_type": "markdown",
   "id": "7dadd91b",
   "metadata": {},
   "source": [
    "# Exploratory Data Analysis (EDA)\n"
   ]
  },
  {
   "cell_type": "code",
   "execution_count": null,
   "id": "ce93293e",
   "metadata": {},
   "outputs": [],
   "source": [
    "# Dataset Overview\n",
    "def dataset_overview(df):\n",
    "    print(df.info())\n",
    "    print(df.describe())\n",
    "\n",
    "dataset_overview(iris_df)\n"
   ]
  },
  {
   "cell_type": "code",
   "execution_count": null,
   "id": "fc18e691",
   "metadata": {},
   "outputs": [],
   "source": [
    "# Data Visualization\n",
    "import seaborn as sns\n",
    "import matplotlib.pyplot as plt\n",
    "\n",
    "def data_visualization(df):\n",
    "    sns.pairplot(df, hue='species')\n",
    "    plt.show()\n",
    "\n",
    "data_visualization(iris_df)\n"
   ]
  },
  {
   "cell_type": "markdown",
   "id": "9ce4d070",
   "metadata": {},
   "source": [
    "# Data Preprocessing\n"
   ]
  },
  {
   "cell_type": "code",
   "execution_count": null,
   "id": "1f89461b",
   "metadata": {},
   "outputs": [],
   "source": [
    "# Handling Missing Values\n",
    "from sklearn.impute import SimpleImputer\n",
    "\n",
    "def handle_missing_values(df):\n",
    "    for column in df.columns:\n",
    "        if df[column].dtype == 'object':\n",
    "            imputer = SimpleImputer(strategy='most_frequent')\n",
    "            df[column] = imputer.fit_transform(df[[column]])\n",
    "        else:\n",
    "            imputer = SimpleImputer(strategy='mean')\n",
    "            df[column] = imputer.fit_transform(df[[column]])\n",
    "    return df\n",
    "\n",
    "iris_df = handle_missing_values(iris_df)\n"
   ]
  },
  {
   "cell_type": "code",
   "execution_count": null,
   "id": "eba07d3e",
   "metadata": {},
   "outputs": [],
   "source": [
    "# Feature Scaling\n",
    "from sklearn.preprocessing import StandardScaler\n",
    "\n",
    "def scale_features(X_train, X_test):\n",
    "    scaler = StandardScaler()\n",
    "    X_train = scaler.fit_transform(X_train)\n",
    "    X_test = scaler.transform(X_test)\n",
    "    return X_train, X_test\n",
    "\n",
    "X = iris_df.drop('species', axis=1)\n",
    "y = iris_df['species']\n",
    "from sklearn.model_selection import train_test_split\n",
    "X_train, X_test, y_train, y_test = train_test_split(X, y, test_size=0.2, random_state=42)\n",
    "X_train, X_test = scale_features(X_train, X_test)\n"
   ]
  },
  {
   "cell_type": "markdown",
   "id": "6d861959",
   "metadata": {},
   "source": [
    "# Model Training\n"
   ]
  },
  {
   "cell_type": "code",
   "execution_count": null,
   "id": "d7faff1e",
   "metadata": {},
   "outputs": [],
   "source": [
    "# Model Selection\n",
    "from sklearn.ensemble import RandomForestClassifier\n",
    "\n",
    "def train_model(X_train, y_train):\n",
    "    model = RandomForestClassifier(n_estimators=100, random_state=42)\n",
    "    model.fit(X_train, y_train)\n",
    "    return model\n",
    "\n",
    "iris_model = train_model(X_train, y_train)\n"
   ]
  },
  {
   "cell_type": "markdown",
   "id": "739c18c4",
   "metadata": {},
   "source": [
    "# Model Evaluation\n"
   ]
  },
  {
   "cell_type": "code",
   "execution_count": null,
   "id": "6e8e633a",
   "metadata": {},
   "outputs": [],
   "source": [
    "# Classification Report\n",
    "from sklearn.metrics import classification_report\n",
    "\n",
    "def evaluate_model(model, X_test, y_test):\n",
    "    predictions = model.predict(X_test)\n",
    "    print(\"Classification Report:\")\n",
    "    print(classification_report(y_test, predictions))\n",
    "\n",
    "evaluate_model(iris_model, X_test, y_test)\n"
   ]
  },
  {
   "cell_type": "code",
   "execution_count": null,
   "id": "836a3534",
   "metadata": {},
   "outputs": [],
   "source": [
    "# Confusion Matrix\n",
    "from sklearn.metrics import confusion_matrix\n",
    "\n",
    "def plot_confusion_matrix(model, X_test, y_test):\n",
    "    predictions = model.predict(X_test)\n",
    "    cm = confusion_matrix(y_test, predictions)\n",
    "    sns.heatmap(cm, annot=True, fmt=\"d\", cmap=\"Blues\")\n",
    "    plt.xlabel(\"Predicted\")\n",
    "    plt.ylabel(\"Actual\")\n",
    "    plt.show()\n",
    "\n",
    "plot_confusion_matrix(iris_model, X_test, y_test)\n"
   ]
  },
  {
   "cell_type": "markdown",
   "id": "5b7e89d1",
   "metadata": {},
   "source": [
    "# Conclusion\n",
    "In this notebook, we have successfully trained a machine learning model to predict Iris flower species. We performed data exploration, preprocessing, model training, and evaluation.\n"
   ]
  }
 ],
 "metadata": {
  "kernelspec": {
   "display_name": "Python 3 (ipykernel)",
   "language": "python",
   "name": "python3"
  },
  "language_info": {
   "codemirror_mode": {
    "name": "ipython",
    "version": 3
   },
   "file_extension": ".py",
   "mimetype": "text/x-python",
   "name": "python",
   "nbconvert_exporter": "python",
   "pygments_lexer": "ipython3",
   "version": "3.9.7"
  }
 },
 "nbformat": 4,
 "nbformat_minor": 5
}
